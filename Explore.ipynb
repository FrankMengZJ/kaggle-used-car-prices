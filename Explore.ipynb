{
 "cells": [
  {
   "cell_type": "code",
   "execution_count": 37,
   "id": "16c8b6da-cd65-490f-bab8-4c26d4dfd4ce",
   "metadata": {},
   "outputs": [],
   "source": [
    "import numpy as np\n",
    "import pandas as pd\n",
    "import csv"
   ]
  },
  {
   "cell_type": "code",
   "execution_count": 3,
   "id": "b543d624-81db-447c-8e8f-959b5dd1fca8",
   "metadata": {},
   "outputs": [],
   "source": [
    "train = pd.read_csv('train.csv')\n",
    "test = pd.read_csv('test.csv')"
   ]
  },
  {
   "cell_type": "code",
   "execution_count": 11,
   "id": "1349293d-ea27-4ef5-8f25-b040ef70e727",
   "metadata": {},
   "outputs": [
    {
     "data": {
      "text/html": [
       "<div>\n",
       "<style scoped>\n",
       "    .dataframe tbody tr th:only-of-type {\n",
       "        vertical-align: middle;\n",
       "    }\n",
       "\n",
       "    .dataframe tbody tr th {\n",
       "        vertical-align: top;\n",
       "    }\n",
       "\n",
       "    .dataframe thead th {\n",
       "        text-align: right;\n",
       "    }\n",
       "</style>\n",
       "<table border=\"1\" class=\"dataframe\">\n",
       "  <thead>\n",
       "    <tr style=\"text-align: right;\">\n",
       "      <th></th>\n",
       "      <th>id</th>\n",
       "      <th>brand</th>\n",
       "      <th>model</th>\n",
       "      <th>model_year</th>\n",
       "      <th>milage</th>\n",
       "      <th>fuel_type</th>\n",
       "      <th>engine</th>\n",
       "      <th>transmission</th>\n",
       "      <th>ext_col</th>\n",
       "      <th>int_col</th>\n",
       "      <th>accident</th>\n",
       "      <th>clean_title</th>\n",
       "      <th>price</th>\n",
       "    </tr>\n",
       "  </thead>\n",
       "  <tbody>\n",
       "    <tr>\n",
       "      <th>0</th>\n",
       "      <td>0</td>\n",
       "      <td>MINI</td>\n",
       "      <td>Cooper S Base</td>\n",
       "      <td>2007</td>\n",
       "      <td>213000</td>\n",
       "      <td>Gasoline</td>\n",
       "      <td>172.0HP 1.6L 4 Cylinder Engine Gasoline Fuel</td>\n",
       "      <td>A/T</td>\n",
       "      <td>Yellow</td>\n",
       "      <td>Gray</td>\n",
       "      <td>None reported</td>\n",
       "      <td>Yes</td>\n",
       "      <td>4200</td>\n",
       "    </tr>\n",
       "    <tr>\n",
       "      <th>1</th>\n",
       "      <td>1</td>\n",
       "      <td>Lincoln</td>\n",
       "      <td>LS V8</td>\n",
       "      <td>2002</td>\n",
       "      <td>143250</td>\n",
       "      <td>Gasoline</td>\n",
       "      <td>252.0HP 3.9L 8 Cylinder Engine Gasoline Fuel</td>\n",
       "      <td>A/T</td>\n",
       "      <td>Silver</td>\n",
       "      <td>Beige</td>\n",
       "      <td>At least 1 accident or damage reported</td>\n",
       "      <td>Yes</td>\n",
       "      <td>4999</td>\n",
       "    </tr>\n",
       "    <tr>\n",
       "      <th>2</th>\n",
       "      <td>2</td>\n",
       "      <td>Chevrolet</td>\n",
       "      <td>Silverado 2500 LT</td>\n",
       "      <td>2002</td>\n",
       "      <td>136731</td>\n",
       "      <td>E85 Flex Fuel</td>\n",
       "      <td>320.0HP 5.3L 8 Cylinder Engine Flex Fuel Capab...</td>\n",
       "      <td>A/T</td>\n",
       "      <td>Blue</td>\n",
       "      <td>Gray</td>\n",
       "      <td>None reported</td>\n",
       "      <td>Yes</td>\n",
       "      <td>13900</td>\n",
       "    </tr>\n",
       "    <tr>\n",
       "      <th>3</th>\n",
       "      <td>3</td>\n",
       "      <td>Genesis</td>\n",
       "      <td>G90 5.0 Ultimate</td>\n",
       "      <td>2017</td>\n",
       "      <td>19500</td>\n",
       "      <td>Gasoline</td>\n",
       "      <td>420.0HP 5.0L 8 Cylinder Engine Gasoline Fuel</td>\n",
       "      <td>Transmission w/Dual Shift Mode</td>\n",
       "      <td>Black</td>\n",
       "      <td>Black</td>\n",
       "      <td>None reported</td>\n",
       "      <td>Yes</td>\n",
       "      <td>45000</td>\n",
       "    </tr>\n",
       "    <tr>\n",
       "      <th>4</th>\n",
       "      <td>4</td>\n",
       "      <td>Mercedes-Benz</td>\n",
       "      <td>Metris Base</td>\n",
       "      <td>2021</td>\n",
       "      <td>7388</td>\n",
       "      <td>Gasoline</td>\n",
       "      <td>208.0HP 2.0L 4 Cylinder Engine Gasoline Fuel</td>\n",
       "      <td>7-Speed A/T</td>\n",
       "      <td>Black</td>\n",
       "      <td>Beige</td>\n",
       "      <td>None reported</td>\n",
       "      <td>Yes</td>\n",
       "      <td>97500</td>\n",
       "    </tr>\n",
       "  </tbody>\n",
       "</table>\n",
       "</div>"
      ],
      "text/plain": [
       "   id          brand              model  model_year  milage      fuel_type  \\\n",
       "0   0           MINI      Cooper S Base        2007  213000       Gasoline   \n",
       "1   1        Lincoln              LS V8        2002  143250       Gasoline   \n",
       "2   2      Chevrolet  Silverado 2500 LT        2002  136731  E85 Flex Fuel   \n",
       "3   3        Genesis   G90 5.0 Ultimate        2017   19500       Gasoline   \n",
       "4   4  Mercedes-Benz        Metris Base        2021    7388       Gasoline   \n",
       "\n",
       "                                              engine  \\\n",
       "0       172.0HP 1.6L 4 Cylinder Engine Gasoline Fuel   \n",
       "1       252.0HP 3.9L 8 Cylinder Engine Gasoline Fuel   \n",
       "2  320.0HP 5.3L 8 Cylinder Engine Flex Fuel Capab...   \n",
       "3       420.0HP 5.0L 8 Cylinder Engine Gasoline Fuel   \n",
       "4       208.0HP 2.0L 4 Cylinder Engine Gasoline Fuel   \n",
       "\n",
       "                     transmission ext_col int_col  \\\n",
       "0                             A/T  Yellow    Gray   \n",
       "1                             A/T  Silver   Beige   \n",
       "2                             A/T    Blue    Gray   \n",
       "3  Transmission w/Dual Shift Mode   Black   Black   \n",
       "4                     7-Speed A/T   Black   Beige   \n",
       "\n",
       "                                 accident clean_title  price  \n",
       "0                           None reported         Yes   4200  \n",
       "1  At least 1 accident or damage reported         Yes   4999  \n",
       "2                           None reported         Yes  13900  \n",
       "3                           None reported         Yes  45000  \n",
       "4                           None reported         Yes  97500  "
      ]
     },
     "execution_count": 11,
     "metadata": {},
     "output_type": "execute_result"
    }
   ],
   "source": [
    "train.head()"
   ]
  },
  {
   "cell_type": "code",
   "execution_count": 29,
   "id": "f96d4d60-4f00-4fa3-9bfd-509262093528",
   "metadata": {},
   "outputs": [
    {
     "data": {
      "text/plain": [
       "(188533, 13)"
      ]
     },
     "execution_count": 29,
     "metadata": {},
     "output_type": "execute_result"
    }
   ],
   "source": [
    "train.shape"
   ]
  },
  {
   "cell_type": "code",
   "execution_count": 9,
   "id": "5729b558-b982-49c4-8497-157be34c5562",
   "metadata": {},
   "outputs": [
    {
     "data": {
      "text/plain": [
       "Index(['id', 'brand', 'model', 'model_year', 'milage', 'fuel_type', 'engine',\n",
       "       'transmission', 'ext_col', 'int_col', 'accident', 'clean_title',\n",
       "       'price'],\n",
       "      dtype='object')"
      ]
     },
     "execution_count": 9,
     "metadata": {},
     "output_type": "execute_result"
    }
   ],
   "source": [
    "train.columns"
   ]
  },
  {
   "cell_type": "code",
   "execution_count": 17,
   "id": "fda8d09a-1229-4bba-a46e-e3e5b48e6bdd",
   "metadata": {},
   "outputs": [
    {
     "data": {
      "text/plain": [
       "(1117,)"
      ]
     },
     "execution_count": 17,
     "metadata": {},
     "output_type": "execute_result"
    }
   ],
   "source": [
    "train['engine'].unique().shape"
   ]
  },
  {
   "cell_type": "code",
   "execution_count": 21,
   "id": "3177d513-0a8a-430e-9edd-0fe0bd172458",
   "metadata": {},
   "outputs": [
    {
     "data": {
      "text/plain": [
       "array(['Gasoline', 'E85 Flex Fuel', nan, 'Hybrid', 'Diesel',\n",
       "       'Plug-In Hybrid', '–', 'not supported'], dtype=object)"
      ]
     },
     "execution_count": 21,
     "metadata": {},
     "output_type": "execute_result"
    }
   ],
   "source": [
    "train['fuel_type'].unique()"
   ]
  },
  {
   "cell_type": "code",
   "execution_count": 23,
   "id": "d38fcc37-a09a-4db2-9c3c-9901587b4cd4",
   "metadata": {},
   "outputs": [
    {
     "data": {
      "text/plain": [
       "array(['None reported', 'At least 1 accident or damage reported', nan],\n",
       "      dtype=object)"
      ]
     },
     "execution_count": 23,
     "metadata": {},
     "output_type": "execute_result"
    }
   ],
   "source": [
    "train['accident'].unique()"
   ]
  },
  {
   "cell_type": "code",
   "execution_count": 25,
   "id": "82d37e05-618f-4c42-87bb-3aed078619b1",
   "metadata": {},
   "outputs": [
    {
     "data": {
      "text/plain": [
       "array(['Yes', nan], dtype=object)"
      ]
     },
     "execution_count": 25,
     "metadata": {},
     "output_type": "execute_result"
    }
   ],
   "source": [
    "train['clean_title'].unique()"
   ]
  },
  {
   "cell_type": "code",
   "execution_count": 27,
   "id": "19043996-0a5d-4045-a9bd-fd0a715146bc",
   "metadata": {},
   "outputs": [
    {
     "data": {
      "text/plain": [
       "array(['A/T', 'Transmission w/Dual Shift Mode', '7-Speed A/T',\n",
       "       '8-Speed A/T', '10-Speed Automatic', '1-Speed A/T', '6-Speed A/T',\n",
       "       '10-Speed A/T', '9-Speed A/T', '8-Speed Automatic',\n",
       "       '9-Speed Automatic', '5-Speed A/T', 'Automatic',\n",
       "       '7-Speed Automatic with Auto-Shift', 'CVT Transmission',\n",
       "       '5-Speed M/T', 'M/T', '6-Speed M/T', '6-Speed Automatic',\n",
       "       '4-Speed Automatic', '7-Speed M/T', '2-Speed A/T',\n",
       "       '1-Speed Automatic', 'Automatic CVT', '4-Speed A/T',\n",
       "       '6-Speed Manual', 'Transmission Overdrive Switch',\n",
       "       '8-Speed Automatic with Auto-Shift', '7-Speed Manual',\n",
       "       '7-Speed Automatic', '9-Speed Automatic with Auto-Shift',\n",
       "       '6-Speed Automatic with Auto-Shift',\n",
       "       '6-Speed Electronically Controlled Automatic with O', 'F', 'CVT-F',\n",
       "       '8-Speed Manual', 'Manual', '–', '2', '6 Speed At/Mt',\n",
       "       '5-Speed Automatic', '2-Speed Automatic', '8-SPEED A/T', '7-Speed',\n",
       "       'Variable', 'Single-Speed Fixed Gear', '8-SPEED AT',\n",
       "       '10-Speed Automatic with Overdrive', '7-Speed DCT Automatic',\n",
       "       'SCHEDULED FOR OR IN PRODUCTION', '6-Speed', '6 Speed Mt'],\n",
       "      dtype=object)"
      ]
     },
     "execution_count": 27,
     "metadata": {},
     "output_type": "execute_result"
    }
   ],
   "source": [
    "train['transmission'].unique()"
   ]
  },
  {
   "cell_type": "code",
   "execution_count": 43,
   "id": "f7628955-118c-4f44-b765-eb1e5fee54a9",
   "metadata": {},
   "outputs": [
    {
     "data": {
      "text/plain": [
       "array(['6-Speed A/T', '8-Speed A/T', '10-Speed Automatic', 'Automatic',\n",
       "       'A/T', 'Transmission w/Dual Shift Mode', '6-Speed Automatic',\n",
       "       '7-Speed A/T', '5-Speed M/T', '8-Speed Automatic', '9-Speed A/T',\n",
       "       '10-Speed A/T', '9-Speed Automatic', '5-Speed Automatic',\n",
       "       'Automatic CVT', '6-Speed M/T', 'CVT Transmission',\n",
       "       'Transmission Overdrive Switch', 'M/T', '7-Speed Automatic',\n",
       "       '5-Speed A/T', '1-Speed A/T', '7-Speed Automatic with Auto-Shift',\n",
       "       '4-Speed A/T', '9-Speed Automatic with Auto-Shift',\n",
       "       '8-Speed Automatic with Auto-Shift', 'Variable',\n",
       "       '10-Speed Automatic with Overdrive', '1-Speed Automatic',\n",
       "       '7-Speed M/T', '6-Speed Manual', '2-Speed Automatic', 'F',\n",
       "       '2-Speed A/T', '4-Speed Automatic',\n",
       "       '6-Speed Automatic with Auto-Shift', '2', '6 Speed Mt',\n",
       "       '7-Speed Manual', '–', '8-Speed Manual', 'Manual',\n",
       "       '6-Speed Electronically Controlled Automatic with O',\n",
       "       '8-SPEED A/T', '7-Speed', '7-Speed DCT Automatic', '8-SPEED AT',\n",
       "       'Single-Speed Fixed Gear', '6 Speed At/Mt', 'CVT-F', '6-Speed',\n",
       "       'SCHEDULED FOR OR IN PRODUCTION'], dtype=object)"
      ]
     },
     "execution_count": 43,
     "metadata": {},
     "output_type": "execute_result"
    }
   ],
   "source": [
    "test['transmission'].unique()"
   ]
  },
  {
   "cell_type": "code",
   "execution_count": 35,
   "id": "4673039e-c7ca-4769-9890-36bd720484c2",
   "metadata": {},
   "outputs": [
    {
     "data": {
      "text/plain": [
       "(57,)"
      ]
     },
     "execution_count": 35,
     "metadata": {},
     "output_type": "execute_result"
    }
   ],
   "source": [
    "train['brand'].unique().shape"
   ]
  },
  {
   "cell_type": "code",
   "execution_count": 33,
   "id": "fa01906e-c800-4b19-8652-5427712ee856",
   "metadata": {},
   "outputs": [
    {
     "data": {
      "text/plain": [
       "(1897,)"
      ]
     },
     "execution_count": 33,
     "metadata": {},
     "output_type": "execute_result"
    }
   ],
   "source": [
    "train['model'].unique().shape"
   ]
  },
  {
   "cell_type": "code",
   "execution_count": 41,
   "id": "2c6a9656-5f4b-467a-8262-1c81e67b4525",
   "metadata": {},
   "outputs": [
    {
     "data": {
      "text/plain": [
       "array([2007, 2002, 2017, 2021, 2018, 2016, 2020, 2015, 2011, 2013, 2023,\n",
       "       2019, 2012, 2014, 2008, 2009, 2022, 2003, 2005, 2001, 2006, 2000,\n",
       "       2010, 2004, 1997, 1998, 1999, 1994, 1993, 1996, 1995, 2024, 1974,\n",
       "       1992], dtype=int64)"
      ]
     },
     "execution_count": 41,
     "metadata": {},
     "output_type": "execute_result"
    }
   ],
   "source": [
    "train['model_year'].unique()"
   ]
  },
  {
   "cell_type": "code",
   "execution_count": null,
   "id": "ec4b5e7d-04e5-4ab2-bbfb-047f36916d35",
   "metadata": {},
   "outputs": [],
   "source": []
  }
 ],
 "metadata": {
  "kernelspec": {
   "display_name": "Python 3 (ipykernel)",
   "language": "python",
   "name": "python3"
  },
  "language_info": {
   "codemirror_mode": {
    "name": "ipython",
    "version": 3
   },
   "file_extension": ".py",
   "mimetype": "text/x-python",
   "name": "python",
   "nbconvert_exporter": "python",
   "pygments_lexer": "ipython3",
   "version": "3.11.7"
  }
 },
 "nbformat": 4,
 "nbformat_minor": 5
}
